{
  "metadata": {
    "kernelspec": {
      "name": "python",
      "display_name": "Pyolite",
      "language": "python"
    },
    "language_info": {
      "codemirror_mode": {
        "name": "python",
        "version": 3
      },
      "file_extension": ".py",
      "mimetype": "text/x-python",
      "name": "python",
      "nbconvert_exporter": "python",
      "pygments_lexer": "ipython3",
      "version": "3.8"
    }
  },
  "nbformat_minor": 4,
  "nbformat": 4,
  "cells": [
    {
      "cell_type": "markdown",
      "source": "<center>\n    <img src=\"https://cf-courses-data.s3.us.cloud-object-storage.appdomain.cloud/IBMDeveloperSkillsNetwork-DS0105EN-SkillsNetwork/labs/Module2/images/SN_web_lightmode.png\" width=\"300\" alt=\"cognitiveclass.ai logo\"  />\n</center>\n",
      "metadata": {}
    },
    {
      "cell_type": "markdown",
      "source": "<h1><h1>My Jupyter Notebook on IBM Watson Studio</h1></h1>",
      "metadata": {}
    },
    {
      "cell_type": "markdown",
      "source": "<b>Todd Kurtz</b><br>\nSenior Consultant",
      "metadata": {}
    },
    {
      "cell_type": "markdown",
      "source": "<i>I am interested in data science because Data Science is a field that is constantly growing and being developed. New tools and technologies are being developed every single day to make work easy and fast. Being a Data Scientist directly means a life long learning trip and I am willing learn every single day.</i>",
      "metadata": {}
    },
    {
      "cell_type": "markdown",
      "source": "<h3><h3>Cell 5 will calculate and display the answer to the problem of 1 + 1</h3></h3>",
      "metadata": {}
    },
    {
      "cell_type": "code",
      "source": "print(1+1)",
      "metadata": {
        "trusted": true
      },
      "execution_count": 2,
      "outputs": [
        {
          "name": "stdout",
          "text": "2\n",
          "output_type": "stream"
        }
      ]
    },
    {
      "cell_type": "markdown",
      "source": "Bulleted List\n<ul>\n<li>Example 1</li>\n<li>Example 2</li>\n<li>Example 3</li>\n</ul>\n\nNumbered List\n<ol>\n  <li>Example 1</li>\n  <li>Example 2</li>\n  <li>Example 3</li>\n</ol>\n\n\n<a href=\"https://jupyter.org/\">Hyperlink</a>",
      "metadata": {}
    },
    {
      "cell_type": "code",
      "source": "",
      "metadata": {},
      "execution_count": null,
      "outputs": []
    }
  ]
}